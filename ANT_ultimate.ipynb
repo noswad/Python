{
  "nbformat": 4,
  "nbformat_minor": 0,
  "metadata": {
    "colab": {
      "provenance": [],
      "authorship_tag": "ABX9TyN15NSsZ8TurOqypiG3Noqs",
      "include_colab_link": true
    },
    "kernelspec": {
      "name": "python3",
      "display_name": "Python 3"
    },
    "language_info": {
      "name": "python"
    }
  },
  "cells": [
    {
      "cell_type": "markdown",
      "metadata": {
        "id": "view-in-github",
        "colab_type": "text"
      },
      "source": [
        "<a href=\"https://colab.research.google.com/github/noswad/Python/blob/master/ANT_ultimate.ipynb\" target=\"_parent\"><img src=\"https://colab.research.google.com/assets/colab-badge.svg\" alt=\"Open In Colab\"/></a>"
      ]
    },
    {
      "cell_type": "markdown",
      "source": [
        "ANT加強版"
      ],
      "metadata": {
        "id": "vrO-tRl4Q50e"
      }
    },
    {
      "cell_type": "markdown",
      "source": [
        "1.安裝必要的庫"
      ],
      "metadata": {
        "id": "wpjTwDHrNn2z"
      }
    },
    {
      "cell_type": "markdown",
      "source": [],
      "metadata": {
        "id": "wN3_jwfoNZ-y"
      }
    },
    {
      "cell_type": "code",
      "source": [
        "!pip install yfinance sqlalchemy"
      ],
      "metadata": {
        "colab": {
          "base_uri": "https://localhost:8080/"
        },
        "collapsed": true,
        "id": "vvgt0BIkNhoP",
        "outputId": "a550f3fd-1a47-430f-be7a-890f82ed8086"
      },
      "execution_count": null,
      "outputs": [
        {
          "output_type": "stream",
          "name": "stdout",
          "text": [
            "Requirement already satisfied: yfinance in /usr/local/lib/python3.10/dist-packages (0.2.40)\n",
            "Requirement already satisfied: sqlalchemy in /usr/local/lib/python3.10/dist-packages (2.0.30)\n",
            "Requirement already satisfied: pandas>=1.3.0 in /usr/local/lib/python3.10/dist-packages (from yfinance) (2.0.3)\n",
            "Requirement already satisfied: numpy>=1.16.5 in /usr/local/lib/python3.10/dist-packages (from yfinance) (1.25.2)\n",
            "Requirement already satisfied: requests>=2.31 in /usr/local/lib/python3.10/dist-packages (from yfinance) (2.31.0)\n",
            "Requirement already satisfied: multitasking>=0.0.7 in /usr/local/lib/python3.10/dist-packages (from yfinance) (0.0.11)\n",
            "Requirement already satisfied: lxml>=4.9.1 in /usr/local/lib/python3.10/dist-packages (from yfinance) (4.9.4)\n",
            "Requirement already satisfied: platformdirs>=2.0.0 in /usr/local/lib/python3.10/dist-packages (from yfinance) (4.2.2)\n",
            "Requirement already satisfied: pytz>=2022.5 in /usr/local/lib/python3.10/dist-packages (from yfinance) (2023.4)\n",
            "Requirement already satisfied: frozendict>=2.3.4 in /usr/local/lib/python3.10/dist-packages (from yfinance) (2.4.4)\n",
            "Requirement already satisfied: peewee>=3.16.2 in /usr/local/lib/python3.10/dist-packages (from yfinance) (3.17.5)\n",
            "Requirement already satisfied: beautifulsoup4>=4.11.1 in /usr/local/lib/python3.10/dist-packages (from yfinance) (4.12.3)\n",
            "Requirement already satisfied: html5lib>=1.1 in /usr/local/lib/python3.10/dist-packages (from yfinance) (1.1)\n",
            "Requirement already satisfied: typing-extensions>=4.6.0 in /usr/local/lib/python3.10/dist-packages (from sqlalchemy) (4.11.0)\n",
            "Requirement already satisfied: greenlet!=0.4.17 in /usr/local/lib/python3.10/dist-packages (from sqlalchemy) (3.0.3)\n",
            "Requirement already satisfied: soupsieve>1.2 in /usr/local/lib/python3.10/dist-packages (from beautifulsoup4>=4.11.1->yfinance) (2.5)\n",
            "Requirement already satisfied: six>=1.9 in /usr/local/lib/python3.10/dist-packages (from html5lib>=1.1->yfinance) (1.16.0)\n",
            "Requirement already satisfied: webencodings in /usr/local/lib/python3.10/dist-packages (from html5lib>=1.1->yfinance) (0.5.1)\n",
            "Requirement already satisfied: python-dateutil>=2.8.2 in /usr/local/lib/python3.10/dist-packages (from pandas>=1.3.0->yfinance) (2.8.2)\n",
            "Requirement already satisfied: tzdata>=2022.1 in /usr/local/lib/python3.10/dist-packages (from pandas>=1.3.0->yfinance) (2024.1)\n",
            "Requirement already satisfied: charset-normalizer<4,>=2 in /usr/local/lib/python3.10/dist-packages (from requests>=2.31->yfinance) (3.3.2)\n",
            "Requirement already satisfied: idna<4,>=2.5 in /usr/local/lib/python3.10/dist-packages (from requests>=2.31->yfinance) (3.7)\n",
            "Requirement already satisfied: urllib3<3,>=1.21.1 in /usr/local/lib/python3.10/dist-packages (from requests>=2.31->yfinance) (2.0.7)\n",
            "Requirement already satisfied: certifi>=2017.4.17 in /usr/local/lib/python3.10/dist-packages (from requests>=2.31->yfinance) (2024.2.2)\n"
          ]
        }
      ]
    },
    {
      "cell_type": "markdown",
      "source": [
        "2. 下載TWSE和OTC股票清單，並存儲到CSV檔案"
      ],
      "metadata": {
        "id": "QTjegIStNsYJ"
      }
    },
    {
      "cell_type": "code",
      "source": [
        "import requests\n",
        "import pandas as pd\n",
        "\n",
        "# 下載TWSE上市股票清單\n",
        "twse_url = 'https://isin.twse.com.tw/isin/C_public.jsp?strMode=2'\n",
        "twse_response = requests.get(twse_url)\n",
        "twse_df = pd.read_html(twse_response.text)[0]\n",
        "twse_df.columns = twse_df.iloc[0]\n",
        "twse_df = twse_df[1:]\n",
        "twse_df = twse_df[['有價證券代號及名稱', '國際證券辨識號碼(ISIN Code)', '上市日', '市場別', '產業別', 'CFICode', '備註']]\n",
        "twse_df.columns = ['stock_id_name', 'ISIN', '上市日', '市場別', '產業別', 'CFICode', '備註']\n",
        "twse_df['stock_id'] = twse_df['stock_id_name'].apply(lambda x: x.split('　')[0] if '　' in x else x)\n",
        "twse_df['name'] = twse_df['stock_id_name'].apply(lambda x: x.split('　')[1] if '　' in x else '')\n",
        "\n",
        "# 下載OTC上櫃股票清單\n",
        "otc_url = 'https://isin.twse.com.tw/isin/C_public.jsp?strMode=4'\n",
        "otc_response = requests.get(otc_url)\n",
        "otc_df = pd.read_html(otc_response.text)[0]\n",
        "otc_df.columns = otc_df.iloc[0]\n",
        "otc_df = otc_df[1:]\n",
        "otc_df = otc_df[['有價證券代號及名稱', '國際證券辨識號碼(ISIN Code)', '上市日', '市場別', '產業別', 'CFICode', '備註']]\n",
        "otc_df.columns = ['stock_id_name', 'ISIN', '上市日', '市場別', '產業別', 'CFICode', '備註']\n",
        "otc_df['stock_id'] = otc_df['stock_id_name'].apply(lambda x: x.split('　')[0] if '　' in x else x)\n",
        "otc_df['name'] = otc_df['stock_id_name'].apply(lambda x: x.split('　')[1] if '　' in x else '')\n",
        "\n",
        "# 合併清單並標記是否為上櫃類股\n",
        "twse_df['is_otc'] = False\n",
        "otc_df['is_otc'] = True\n",
        "stock_list = pd.concat([twse_df, otc_df], ignore_index=True).drop_duplicates(subset=['stock_id'])\n",
        "\n",
        "# 儲存為CSV檔案\n",
        "stock_list.to_csv('/content/stock_list.csv', index=False, encoding='utf-8-sig')\n"
      ],
      "metadata": {
        "id": "NEAEpSSCN4W6"
      },
      "execution_count": null,
      "outputs": []
    },
    {
      "cell_type": "markdown",
      "source": [
        "3. 從yfinance獲取近90天的數據並寫入SQLite資料庫"
      ],
      "metadata": {
        "id": "vvhH7oAaN7jI"
      }
    },
    {
      "cell_type": "code",
      "source": [
        "import yfinance as yf\n",
        "import pandas as pd\n",
        "from sqlalchemy import create_engine, text\n",
        "import time\n",
        "from tqdm import tqdm\n",
        "\n",
        "# 讀取合併後的台股代碼清單\n",
        "stock_list = pd.read_csv('/content/stock_list.csv')\n",
        "\n",
        "# 確保 stock_id 是字符串格式\n",
        "stock_list['stock_id'] = stock_list['stock_id'].astype(str)\n",
        "\n",
        "# 連接到 SQLite 資料庫\n",
        "engine = create_engine('sqlite:///stock_data.db')\n",
        "conn = engine.connect()\n",
        "\n",
        "# 初始化 log 檔案\n",
        "log_file_path = '/content/fetch_log.txt'\n",
        "with open(log_file_path, 'w') as log_file:\n",
        "    log_file.write(\"抓取數據日誌:\\n\")\n",
        "\n",
        "# 設定請求間隔時間\n",
        "SLEEP_INTERVAL = 0.8  # 每次請求後的等待時間（秒）\n",
        "\n",
        "# 下載歷史數據並寫入資料庫\n",
        "total_stocks = len(stock_list)\n",
        "with tqdm(total=total_stocks, desc=\"抓取股票數據進度\") as pbar:\n",
        "    for i in stock_list.index:\n",
        "        stock_id = stock_list.loc[i, 'stock_id']\n",
        "        stock_id_full = stock_id.zfill(4) + ('.TWO' if stock_list.loc[i, 'is_otc'] else '.TW')\n",
        "        log_message = f\"抓取 {stock_id_full} 的數據\"\n",
        "\n",
        "        data = yf.Ticker(stock_id_full)\n",
        "        df = data.history(period=\"3mo\")  # 改為獲取近 3 個月的數據\n",
        "\n",
        "        # 檢查是否成功獲取數據\n",
        "        if len(df) < 60:  # 近 3 個月應有大約 60 個交易日，這裡設置為 60 以確保足夠的數據\n",
        "            log_message = f\"{stock_id_full} 數據不足，跳過此股票\"\n",
        "            with open(log_file_path, 'a') as log_file:\n",
        "                log_file.write(log_message + \"\\n\")\n",
        "            pbar.update(1)\n",
        "            continue\n",
        "\n",
        "        if not df.empty:\n",
        "            # 只保留需要的列\n",
        "            df = df[['Open', 'High', 'Low', 'Close', 'Volume', 'Dividends', 'Stock Splits']]\n",
        "            df['stock_id'] = stock_id\n",
        "            df.reset_index(inplace=True)\n",
        "            df.to_sql('historical_data', conn, if_exists='append', index=False)\n",
        "            log_message = f\"{stock_id_full} 的數據已成功寫入資料庫\"\n",
        "            with open(log_file_path, 'a') as log_file:\n",
        "                log_file.write(log_message + \"\\n\")\n",
        "\n",
        "        pbar.update(1)\n",
        "        time.sleep(SLEEP_INTERVAL)  # 控制請求速率\n",
        "\n",
        "# 查看資料庫中的數據\n",
        "print(\"資料抓取完成，顯示前 5 筆資料:\")\n",
        "result = conn.execute(text(\"SELECT * FROM historical_data LIMIT 5\")).fetchall()\n",
        "for row in result:\n",
        "    print(row)\n"
      ],
      "metadata": {
        "colab": {
          "base_uri": "https://localhost:8080/"
        },
        "id": "rPmK55LUOAYL",
        "outputId": "0bc92180-bb32-417f-f1ff-f6b22fcf23cb",
        "collapsed": true
      },
      "execution_count": null,
      "outputs": [
        {
          "output_type": "stream",
          "name": "stderr",
          "text": [
            "抓取股票數據進度:   7%|▋         | 132/1846 [02:01<26:36,  1.07it/s]ERROR:yfinance:1563.TW: Period '3mo' is invalid, must be one of ['1d', '5d', '1mo', 'ytd', 'max']\n",
            "抓取股票數據進度:  38%|███▊      | 707/1846 [10:45<17:00,  1.12it/s]ERROR:yfinance:4949.TW: Period '3mo' is invalid, must be one of ['1d', '5d', '1mo', 'ytd', 'max']\n",
            "抓取股票數據進度:  49%|████▉     | 900/1846 [13:38<13:55,  1.13it/s]ERROR:yfinance:6928.TW: Period '3mo' is invalid, must be one of ['1d', '5d', '1mo', 'ytd', 'max']\n",
            "抓取股票數據進度:  54%|█████▍    | 999/1846 [15:07<12:36,  1.12it/s]ERROR:yfinance:6423.TW: Period '3mo' is invalid, must be one of ['1d', '5d', '1mo', 'ytd', 'max']\n",
            "抓取股票數據進度:  54%|█████▍    | 1003/1846 [15:09<10:47,  1.30it/s]ERROR:yfinance:6771.TW: Period '3mo' is invalid, must be one of ['1d', '5d', '1mo', 'ytd', 'max']\n",
            "抓取股票數據進度:  54%|█████▍    | 1004/1846 [15:10<11:08,  1.26it/s]ERROR:yfinance:6794.TW: Period '3mo' is invalid, must be one of ['1d', '5d', '1mo', 'ytd', 'max']\n",
            "抓取股票數據進度: 100%|██████████| 1846/1846 [27:48<00:00,  1.11it/s]"
          ]
        },
        {
          "output_type": "stream",
          "name": "stdout",
          "text": [
            "資料抓取完成，顯示前 5 筆資料:\n",
            "('2024-02-29 00:00:00.000000', 271.5, 293.5, 270.5, 293.5, 7073000, 0.0, 0.0, '6231')\n",
            "('2024-03-01 00:00:00.000000', 299.5, 318.0, 277.5, 312.0, 10913000, 0.0, 0.0, '6231')\n",
            "('2024-03-04 00:00:00.000000', 315.0, 323.5, 302.5, 303.0, 5109000, 0.0, 0.0, '6231')\n",
            "('2024-03-05 00:00:00.000000', 307.5, 307.5, 295.0, 296.5, 2286000, 0.0, 0.0, '6231')\n",
            "('2024-03-06 00:00:00.000000', 290.5, 299.5, 286.0, 291.5, 2380000, 0.0, 0.0, '6231')\n"
          ]
        },
        {
          "output_type": "stream",
          "name": "stderr",
          "text": [
            "\n"
          ]
        }
      ]
    },
    {
      "cell_type": "markdown",
      "source": [
        "4. 從資料庫中查詢數據並進行篩選"
      ],
      "metadata": {
        "id": "YU67yh28OE2G"
      }
    },
    {
      "cell_type": "code",
      "source": [
        "import pandas as pd\n",
        "from sqlalchemy import create_engine\n",
        "import yfinance as yf\n",
        "\n",
        "# 連接到 SQLite 資料庫\n",
        "engine = create_engine('sqlite:///stock_data.db')\n",
        "conn = engine.connect()\n",
        "\n",
        "# 查詢歷史數據\n",
        "query = \"SELECT * FROM historical_data\"\n",
        "df = pd.read_sql_query(query, conn)\n",
        "\n",
        "# 轉換日期列為 datetime 類型\n",
        "df['Date'] = pd.to_datetime(df['Date'])\n",
        "\n",
        "# 確保 stock_id 是字符串格式\n",
        "df['stock_id'] = df['stock_id'].astype(str)\n",
        "\n",
        "# 載入股票清單\n",
        "stock_list = pd.read_csv('/content/stock_list.csv')\n",
        "stock_list['stock_id'] = stock_list['stock_id'].astype(str)\n",
        "\n",
        "# 按 stock_id 分組並計算指標\n",
        "results = []\n",
        "stocks = df['stock_id'].unique()\n",
        "for stock in stocks:\n",
        "    stock_data = df[df['stock_id'] == stock].sort_values(by='Date')\n",
        "    stock_data['Change'] = stock_data['Close'].pct_change()\n",
        "    stock_data['Volume_Change'] = stock_data['Volume'].pct_change()\n",
        "\n",
        "    last_15_days = stock_data.tail(15)\n",
        "\n",
        "    # 動能條件：過去 15 天至少有 12 天上漲\n",
        "    momentum_condition = (last_15_days['Change'] > 0).sum() >= 12\n",
        "\n",
        "    # 檢查是否有足夠的數據和成交量不為零\n",
        "    prev_15_days = stock_data.iloc[-30:-15]\n",
        "    if len(prev_15_days) < 15 or prev_15_days['Volume'].mean() == 0:\n",
        "        continue\n",
        "\n",
        "    # 成交量條件：過去 15 天內成交量至少增加了 25%\n",
        "    volume_condition = (last_15_days['Volume'].mean() / prev_15_days['Volume'].mean()) >= 1.25\n",
        "\n",
        "    # 價格條件：過去 15 天內價格至少上漲 20%\n",
        "    price_condition = (last_15_days['Close'].iloc[-1] / last_15_days['Close'].iloc[0]) >= 1.2\n",
        "\n",
        "    if momentum_condition:\n",
        "        if price_condition and volume_condition:\n",
        "            level = \"Perfect - 符合動能、成交量和價格要求。\"\n",
        "        elif price_condition:\n",
        "            level = \"Level 2 - 符合動能和價格要求。\"\n",
        "        elif volume_condition:\n",
        "            level = \"Level 3 - 符合動能和成交量要求。\"\n",
        "        else:\n",
        "            level = \"Level 1 - 符合動能要求。\"\n",
        "    else:\n",
        "        level = \"None\"\n",
        "\n",
        "    if level != \"None\":\n",
        "        stock_name = stock_list.loc[stock_list['stock_id'] == stock, 'name'].values[0]\n",
        "        results.append([stock, stock_name, level])\n",
        "\n",
        "# 將結果轉換為 DataFrame\n",
        "results_df = pd.DataFrame(results, columns=['stock_id', 'name', 'level'])\n",
        "\n",
        "# 從 yfinance 獲取200MA數據並進行判斷\n",
        "final_results = []\n",
        "for index, row in results_df.iterrows():\n",
        "    stock_id_full = row['stock_id'].zfill(4) + ('.TWO' if stock_list.loc[stock_list['stock_id'] == row['stock_id'], 'is_otc'].values[0] else '.TW')\n",
        "    data = yf.Ticker(stock_id_full)\n",
        "    df = data.history(period=\"1y\")  # 獲取近 1 年的數據以計算200MA\n",
        "    if len(df) < 200:\n",
        "        continue  # 確保有足夠的數據計算200MA\n",
        "\n",
        "    df['200MA'] = df['Close'].rolling(window=200).mean()\n",
        "    if df['Close'].iloc[-1] > df['200MA'].iloc[-1]:\n",
        "        final_results.append([row['stock_id'], row['name'], row['level']])\n",
        "\n",
        "# 將最終結果轉換為 DataFrame\n",
        "final_results_df = pd.DataFrame(final_results, columns=['stock_id', 'name', 'level'])\n",
        "\n",
        "# 將結果寫入 CSV 檔案，使用 UTF-8 編碼格式\n",
        "final_results_df.to_csv('/content/list.csv', index=False, encoding='utf-8-sig')\n",
        "\n",
        "print(\"結果已寫入 list.csv 檔案。\")\n"
      ],
      "metadata": {
        "id": "OG6BmezNOJjh",
        "colab": {
          "base_uri": "https://localhost:8080/"
        },
        "outputId": "9b8c30b7-efbb-43a9-f4f1-561b30cae7a3"
      },
      "execution_count": null,
      "outputs": [
        {
          "output_type": "stream",
          "name": "stdout",
          "text": [
            "結果已寫入 list.csv 檔案。\n"
          ]
        }
      ]
    }
  ]
}